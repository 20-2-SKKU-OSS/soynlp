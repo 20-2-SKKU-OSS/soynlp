{
 "cells": [
  {
   "cell_type": "code",
   "execution_count": 1,
   "metadata": {},
   "outputs": [
    {
     "name": "stdout",
     "output_type": "stream",
     "text": [
      "0.0.4\n"
     ]
    }
   ],
   "source": [
    "import sys\n",
    "sys.path.append('../')\n",
    "import soynlp\n",
    "\n",
    "print(soynlp.__version__)"
   ]
  },
  {
   "cell_type": "code",
   "execution_count": 2,
   "metadata": {},
   "outputs": [
    {
     "name": "stdout",
     "output_type": "stream",
     "text": [
      "{'Adjective': '형용사',\n",
      " 'Adverb': '부사',\n",
      " 'Determiner': '관형사',\n",
      " 'Exclamation': '감탄사',\n",
      " 'Josa': '조사',\n",
      " 'Noun': '명사',\n",
      " 'Numeral': '수사',\n",
      " 'Pronoun': '대명사',\n",
      " 'Symbol': '기호',\n",
      " 'Verb': '동사'}\n"
     ]
    }
   ],
   "source": [
    "from soynlp.pos.tagset import tagset\n",
    "from pprint import pprint\n",
    "pprint(tagset)"
   ]
  },
  {
   "cell_type": "code",
   "execution_count": 3,
   "metadata": {},
   "outputs": [
    {
     "name": "stdout",
     "output_type": "stream",
     "text": [
      "['Noun']\n",
      "['Noun', 'Josa']\n"
     ]
    }
   ],
   "source": [
    "from soynlp.pos import Dictionary\n",
    "from soynlp.pos import LRTemplateMatcher\n",
    "from soynlp.pos import LREvaluator\n",
    "from soynlp.pos import SimpleTagger\n",
    "from soynlp.pos import UnknowLRPostprocessor\n",
    "\n",
    "pos_dict = {\n",
    "    'Adverb': {'너무', '매우'}, \n",
    "    'Noun': {'너무너무너무', '아이오아이', '아이', '노래', '오', '이', '고양'},\n",
    "    'Josa': {'는', '의', '이다', '입니다', '이', '이는', '를', '라', '라는'},\n",
    "    'Verb': {'하는', '하다', '하고'},\n",
    "    'Adjective': {'예쁜', '예쁘다'},\n",
    "    'Exclamation': {'우와'}    \n",
    "}\n",
    "\n",
    "dictionary = Dictionary(pos_dict)\n",
    "\n",
    "print(dictionary.get_pos('아이오아이'))\n",
    "print(dictionary.get_pos('이'))"
   ]
  },
  {
   "cell_type": "code",
   "execution_count": 4,
   "metadata": {
    "collapsed": true
   },
   "outputs": [],
   "source": [
    "preference = {\n",
    "    'Noun': {'아이오아이':10.0, '너무너무너무':5}\n",
    "}"
   ]
  },
  {
   "cell_type": "code",
   "execution_count": 5,
   "metadata": {},
   "outputs": [],
   "source": [
    "generator = LRTemplateMatcher(dictionary)\n",
    "evaluator = LREvaluator(preference=preference)\n",
    "postprocessor = UnknowLRPostprocessor()\n",
    "\n",
    "tagger = SimpleTagger(generator, evaluator, postprocessor)"
   ]
  },
  {
   "cell_type": "code",
   "execution_count": 6,
   "metadata": {},
   "outputs": [
    {
     "data": {
      "text/plain": [
       "[('너무너무너무', 'Noun'),\n",
       " ('는', 'Josa'),\n",
       " ('아이오아이', 'Noun'),\n",
       " ('의', 'Josa'),\n",
       " ('노래', 'Noun'),\n",
       " ('입니다', 'Josa'),\n",
       " ('!!', None)]"
      ]
     },
     "execution_count": 6,
     "metadata": {},
     "output_type": "execute_result"
    }
   ],
   "source": [
    "sent = '너무너무너무는아이오아이의노래입니다!!'\n",
    "tagger.tag(sent)"
   ]
  },
  {
   "cell_type": "code",
   "execution_count": 7,
   "metadata": {},
   "outputs": [],
   "source": [
    "tags, debugs = tagger.tag(sent, debug=True)"
   ]
  },
  {
   "cell_type": "code",
   "execution_count": 8,
   "metadata": {},
   "outputs": [
    {
     "name": "stdout",
     "output_type": "stream",
     "text": [
      "[('너무너무너무', 'Noun'),\n",
      " ('는', 'Josa'),\n",
      " ('아이오아이', 'Noun'),\n",
      " ('의', 'Josa'),\n",
      " ('노래', 'Noun'),\n",
      " ('입니다', 'Josa'),\n",
      " ('!!', None)]\n"
     ]
    }
   ],
   "source": [
    "pprint(tags)"
   ]
  },
  {
   "cell_type": "code",
   "execution_count": 9,
   "metadata": {},
   "outputs": [
    {
     "name": "stdout",
     "output_type": "stream",
     "text": [
      "[[(LR(l='너무', l_tag='Adverb', r='', r_tag=None, b=0, m=2, e=2), 0.4),\n",
      "  (LR(l='너무너무너무', l_tag='Noun', r='', r_tag=None, b=0, m=6, e=6), 5.9),\n",
      "  (LR(l='너무너무너무', l_tag='Noun', r='는', r_tag='Josa', b=0, m=6, e=7), 6.15),\n",
      "  (LR(l='너무', l_tag='Adverb', r='', r_tag=None, b=2, m=4, e=4), 0.4),\n",
      "  (LR(l='너무', l_tag='Adverb', r='', r_tag=None, b=4, m=6, e=6), 0.4),\n",
      "  (LR(l='아이오아이', l_tag='Noun', r='', r_tag=None, b=7, m=12, e=12), 10.8),\n",
      "  (LR(l='아이오아이', l_tag='Noun', r='의', r_tag='Josa', b=7, m=12, e=13), 11.05),\n",
      "  (LR(l='노래', l_tag='Noun', r='', r_tag=None, b=13, m=15, e=15), 0.5),\n",
      "  (LR(l='노래', l_tag='Noun', r='입니다', r_tag='Josa', b=13, m=15, e=18), 0.95)]]\n"
     ]
    }
   ],
   "source": [
    "pprint(debugs)"
   ]
  },
  {
   "cell_type": "code",
   "execution_count": null,
   "metadata": {
    "collapsed": true
   },
   "outputs": [],
   "source": []
  }
 ],
 "metadata": {
  "kernelspec": {
   "display_name": "Python 3",
   "language": "python",
   "name": "python3"
  },
  "language_info": {
   "codemirror_mode": {
    "name": "ipython",
    "version": 3
   },
   "file_extension": ".py",
   "mimetype": "text/x-python",
   "name": "python",
   "nbconvert_exporter": "python",
   "pygments_lexer": "ipython3",
   "version": "3.6.1"
  }
 },
 "nbformat": 4,
 "nbformat_minor": 2
}
